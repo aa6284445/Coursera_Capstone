{
 "cells": [
  {
   "cell_type": "markdown",
   "metadata": {},
   "source": [
    "<h1>Battle of the train stations</h1>\n",
    "<h2>Coursera Capstone: Paul Papenfus</h2>\n",
    "\n",
    "<h3>The problem</h3>\n",
    "People working in London have an important choice to make when considering where to live. Everyone has to commute in to work but no one wants to commute any longer than is absolutely necessary. This competition for space increasingly drives up property values closer to central London. Knowledge about areas that are less expensive compared to the length of their commute is likely to be useful. This analysis looks to find the UK railway station, or region of stations, with the lowest property value per minute of commute into London.<p>\n",
    "\n",
    "For the sake of simplicity, a weekday morning commute on direct trains into London Waterloo was chosen for analysis. Waterloo was chosen because it has the most passenger traffic of all UK stations. To represent a typical commute, train journeys were chosen to start no earlier than 6am and reach Waterloo no later than 9:30am. <p>\n",
    "\n",
    "Property sale information in 2019 was sourced from Land Registry. National Rail offers several free APIs to interrogate its data on train performance over the years. For this assignment the Historic Service Performance (HSP) API was selected to query the length of train journeys.<p>\n",
    "\n",
    "Both property and train data are available for many years. For this assignment the year 2019 was used for both as this is the most recent complete year before transport patterns were disrupted due to Coronavirus. <p>\n",
    "\n",
    "The assignment specifies that the Foursquare API must be used. To satisfy this, the analysis also looks at the ratings of schools in the region two kilometers from every station. National ratings in the UK are provided by a centralised agency known as Ofsted. The best rating availble is Outstanding. School rating information will be most useful to parents looking to live in an area near schools with Outstanding Ofsted ratings.<p>\n",
    "\n",
    "<h3>Data</h3>\n",
    "The data for this assignment comes from five sources:<p>\n",
    "- A list of UK train stations from \n",
    "https://www.doogal.co.uk/UkStationsCSV.ashx<p>\n",
    "- UK property sales data in 2019 from\n",
    "http://prod.publicdata.landregistry.gov.uk.s3-website-eu-west-1.amazonaws.com/pp-2019.csv<p>\n",
    "- Train departure and arrival information from the HSP API provided by National Rail<p>\n",
    "- A list of primary schools near every relevant station, provided by the Foursquare API, and<p>\n",
    "- Schools graded as Outstanding by Ofsted as listed on\n",
    "https://www.compare-school-performance.service.gov.uk<p>\n"
   ]
  },
  {
   "cell_type": "code",
   "execution_count": null,
   "metadata": {},
   "outputs": [],
   "source": []
  },
  {
   "cell_type": "code",
   "execution_count": null,
   "metadata": {},
   "outputs": [],
   "source": []
  }
 ],
 "metadata": {
  "kernelspec": {
   "display_name": "Python 3",
   "language": "python",
   "name": "python3"
  },
  "language_info": {
   "codemirror_mode": {
    "name": "ipython",
    "version": 3
   },
   "file_extension": ".py",
   "mimetype": "text/x-python",
   "name": "python",
   "nbconvert_exporter": "python",
   "pygments_lexer": "ipython3",
   "version": "3.7.6"
  }
 },
 "nbformat": 4,
 "nbformat_minor": 4
}
