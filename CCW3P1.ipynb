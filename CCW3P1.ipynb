{
 "cells": [
  {
   "cell_type": "markdown",
   "metadata": {},
   "source": [
    "This notebook will be mainly used for the capstone project"
   ]
  },
  {
   "cell_type": "code",
   "execution_count": 8,
   "metadata": {},
   "outputs": [
    {
     "name": "stdout",
     "output_type": "stream",
     "text": [
      "Hello Capstone Project Course!\n"
     ]
    }
   ],
   "source": [
    "import pandas as pd\n",
    "import numpy as np\n",
    "print('Hello Capstone Project Course!')"
   ]
  },
  {
   "cell_type": "markdown",
   "metadata": {},
   "source": [
    "<h1>Below is my submission for Week 3: Segmenting and Clustering Neighborhoods in Toronto</h1>"
   ]
  },
  {
   "cell_type": "markdown",
   "metadata": {},
   "source": [
    "A quick Google search has revealed that the table I need is on the link below:"
   ]
  },
  {
   "cell_type": "markdown",
   "metadata": {},
   "source": [
    "https://en.wikipedia.org/wiki/List_of_postal_codes_of_Canada:_M"
   ]
  },
  {
   "cell_type": "code",
   "execution_count": 17,
   "metadata": {},
   "outputs": [
    {
     "name": "stdout",
     "output_type": "stream",
     "text": [
      "Table 1:                                                     0                1  \\\n",
      "0                                    M1ANot assigned  M2ANot assigned   \n",
      "1                    M1BScarborough(Malvern / Rouge)  M2BNot assigned   \n",
      "2  M1CScarborough(Rouge Hill / Port Union / Highl...  M2CNot assigned   \n",
      "3  M1EScarborough(Guildwood / Morningside / West ...  M2ENot assigned   \n",
      "4                             M1GScarborough(Woburn)  M2GNot assigned   \n",
      "\n",
      "                                                2  \\\n",
      "0                        M3ANorth York(Parkwoods)   \n",
      "1                   M3BNorth York(Don Mills)North   \n",
      "2  M3CNorth York(Don Mills)South(Flemingdon Park)   \n",
      "3                                 M3ENot assigned   \n",
      "4                                 M3GNot assigned   \n",
      "\n",
      "                                                3  \\\n",
      "0                 M4ANorth York(Victoria Village)   \n",
      "1  M4BEast York(Parkview Hill / Woodbine Gardens)   \n",
      "2                  M4CEast York(Woodbine Heights)   \n",
      "3                    M4EEast Toronto(The Beaches)   \n",
      "4                           M4GEast York(Leaside)   \n",
      "\n",
      "                                                 4  \\\n",
      "0  M5ADowntown Toronto(Regent Park / Harbourfront)   \n",
      "1    M5BDowntown Toronto(Garden District, Ryerson)   \n",
      "2              M5CDowntown Toronto(St. James Town)   \n",
      "3                 M5EDowntown Toronto(Berczy Park)   \n",
      "4          M5GDowntown Toronto(Central Bay Street)   \n",
      "\n",
      "                                                  5  \\\n",
      "0  M6ANorth York(Lawrence Manor / Lawrence Heights)   \n",
      "1                          M6BNorth York(Glencairn)   \n",
      "2                       M6CYork(Humewood-Cedarvale)   \n",
      "3                      M6EYork(Caledonia-Fairbanks)   \n",
      "4                     M6GDowntown Toronto(Christie)   \n",
      "\n",
      "                                                6                7  \\\n",
      "0  M7AQueen's Park(Ontario Provincial Government)  M8ANot assigned   \n",
      "1                                 M7BNot assigned  M8BNot assigned   \n",
      "2                                 M7CNot assigned  M8CNot assigned   \n",
      "3                                 M7ENot assigned  M8ENot assigned   \n",
      "4                                 M7GNot assigned  M8GNot assigned   \n",
      "\n",
      "                                                   8  \n",
      "0                     M9AEtobicoke(Islington Avenue)  \n",
      "1  M9BEtobicoke(West Deane Park / Princess Garden...  \n",
      "2  M9CEtobicoke(Eringate / Bloordale Gardens / Ol...  \n",
      "3                                    M9ENot assigned  \n",
      "4                                    M9GNot assigned  \n",
      "Table 2:                                                    0   \\\n",
      "0                                                NaN   \n",
      "1  NL NS PE NB QC ON MB SK AB BC NU/NT YT A B C E...   \n",
      "2                                                 NL   \n",
      "3                                                  A   \n",
      "\n",
      "                                                  1   \\\n",
      "0                              Canadian postal codes   \n",
      "1  NL NS PE NB QC ON MB SK AB BC NU/NT YT A B C E...   \n",
      "2                                                 NS   \n",
      "3                                                  B   \n",
      "\n",
      "                                                  2    3    4    5    6    7   \\\n",
      "0                                                NaN  NaN  NaN  NaN  NaN  NaN   \n",
      "1  NL NS PE NB QC ON MB SK AB BC NU/NT YT A B C E...  NaN  NaN  NaN  NaN  NaN   \n",
      "2                                                 PE   NB   QC   QC   QC   ON   \n",
      "3                                                  C    E    G    H    J    K   \n",
      "\n",
      "    8    9    10   11   12   13   14   15     16   17  \n",
      "0  NaN  NaN  NaN  NaN  NaN  NaN  NaN  NaN    NaN  NaN  \n",
      "1  NaN  NaN  NaN  NaN  NaN  NaN  NaN  NaN    NaN  NaN  \n",
      "2   ON   ON   ON   ON   MB   SK   AB   BC  NU/NT   YT  \n",
      "3    L    M    N    P    R    S    T    V      X    Y  \n",
      "Table 3:     0   1   2   3   4   5   6   7   8   9   10  11  12  13  14  15     16  17\n",
      "0  NL  NS  PE  NB  QC  QC  QC  ON  ON  ON  ON  ON  MB  SK  AB  BC  NU/NT  YT\n",
      "1   A   B   C   E   G   H   J   K   L   M   N   P   R   S   T   V      X   Y\n"
     ]
    }
   ],
   "source": [
    "#read the tables on the page, checking the appearance of each\n",
    "tbls=pd.read_html('https://en.wikipedia.org/wiki/List_of_postal_codes_of_Canada:_M')\n",
    "i=0\n",
    "for t in tbls:\n",
    "    i=i+1\n",
    "    print('Table '+str(i)+': ',t.head())"
   ]
  },
  {
   "cell_type": "markdown",
   "metadata": {},
   "source": [
    "It's clear that Table 1, tbls[0], is the one I want. Focus on this one from now on."
   ]
  },
  {
   "cell_type": "code",
   "execution_count": 77,
   "metadata": {},
   "outputs": [],
   "source": [
    "t=tbls[0]\n",
    "table_contents=[]"
   ]
  },
  {
   "cell_type": "code",
   "execution_count": 78,
   "metadata": {},
   "outputs": [],
   "source": [
    "for rw in range(t.shape[0]):\n",
    "    for cl in range(t.shape[1]):\n",
    "        cell = {}\n",
    "        txt=str(t.iloc[rw,cl])\n",
    "        if txt[3:]=='Not assigned':\n",
    "            pass\n",
    "        else:\n",
    "            cell['PostalCode']=txt[:3]\n",
    "            the_rest=txt[3:]\n",
    "            cell['Borough']=the_rest.split('(')[0]\n",
    "            cell['Neighborhood']=the_rest.split('(')[1].split(')')[0].replace(' /',',')\n",
    "            table_contents.append(cell)"
   ]
  },
  {
   "cell_type": "code",
   "execution_count": null,
   "metadata": {},
   "outputs": [],
   "source": []
  },
  {
   "cell_type": "code",
   "execution_count": 79,
   "metadata": {},
   "outputs": [],
   "source": [
    "d=pd.DataFrame(table_contents)\n",
    "#replace a few Borough names as listed in 'Hints for scraping Notebook'\n",
    "d['Borough']=d['Borough'].replace({'Downtown TorontoStn A PO Boxes25 The Esplanade':'Downtown Toronto Stn A',\n",
    "                                             'East TorontoBusiness reply mail Processing Centre969 Eastern':'East Toronto Business',\n",
    "                                             'EtobicokeNorthwest':'Etobicoke Northwest','East YorkEast Toronto':'East York/East Toronto',\n",
    "                                             'MississaugaCanada Post Gateway Processing Centre':'Mississauga'})"
   ]
  },
  {
   "cell_type": "code",
   "execution_count": 82,
   "metadata": {},
   "outputs": [
    {
     "data": {
      "text/html": [
       "<div>\n",
       "<style scoped>\n",
       "    .dataframe tbody tr th:only-of-type {\n",
       "        vertical-align: middle;\n",
       "    }\n",
       "\n",
       "    .dataframe tbody tr th {\n",
       "        vertical-align: top;\n",
       "    }\n",
       "\n",
       "    .dataframe thead th {\n",
       "        text-align: right;\n",
       "    }\n",
       "</style>\n",
       "<table border=\"1\" class=\"dataframe\">\n",
       "  <thead>\n",
       "    <tr style=\"text-align: right;\">\n",
       "      <th></th>\n",
       "      <th>PostalCode</th>\n",
       "      <th>Borough</th>\n",
       "      <th>Neighborhood</th>\n",
       "    </tr>\n",
       "  </thead>\n",
       "  <tbody>\n",
       "    <tr>\n",
       "      <th>0</th>\n",
       "      <td>M3A</td>\n",
       "      <td>North York</td>\n",
       "      <td>Parkwoods</td>\n",
       "    </tr>\n",
       "    <tr>\n",
       "      <th>1</th>\n",
       "      <td>M4A</td>\n",
       "      <td>North York</td>\n",
       "      <td>Victoria Village</td>\n",
       "    </tr>\n",
       "    <tr>\n",
       "      <th>2</th>\n",
       "      <td>M5A</td>\n",
       "      <td>Downtown Toronto</td>\n",
       "      <td>Regent Park, Harbourfront</td>\n",
       "    </tr>\n",
       "    <tr>\n",
       "      <th>3</th>\n",
       "      <td>M6A</td>\n",
       "      <td>North York</td>\n",
       "      <td>Lawrence Manor, Lawrence Heights</td>\n",
       "    </tr>\n",
       "    <tr>\n",
       "      <th>4</th>\n",
       "      <td>M7A</td>\n",
       "      <td>Queen's Park</td>\n",
       "      <td>Ontario Provincial Government</td>\n",
       "    </tr>\n",
       "    <tr>\n",
       "      <th>...</th>\n",
       "      <td>...</td>\n",
       "      <td>...</td>\n",
       "      <td>...</td>\n",
       "    </tr>\n",
       "    <tr>\n",
       "      <th>98</th>\n",
       "      <td>M8X</td>\n",
       "      <td>Etobicoke</td>\n",
       "      <td>The Kingsway, Montgomery Road, Old Mill North</td>\n",
       "    </tr>\n",
       "    <tr>\n",
       "      <th>99</th>\n",
       "      <td>M4Y</td>\n",
       "      <td>Downtown Toronto</td>\n",
       "      <td>Church and Wellesley</td>\n",
       "    </tr>\n",
       "    <tr>\n",
       "      <th>100</th>\n",
       "      <td>M7Y</td>\n",
       "      <td>East Toronto Business</td>\n",
       "      <td>Enclave of M4L</td>\n",
       "    </tr>\n",
       "    <tr>\n",
       "      <th>101</th>\n",
       "      <td>M8Y</td>\n",
       "      <td>Etobicoke</td>\n",
       "      <td>Old Mill South, King's Mill Park, Sunnylea, Hu...</td>\n",
       "    </tr>\n",
       "    <tr>\n",
       "      <th>102</th>\n",
       "      <td>M8Z</td>\n",
       "      <td>Etobicoke</td>\n",
       "      <td>Mimico NW, The Queensway West, South of Bloor,...</td>\n",
       "    </tr>\n",
       "  </tbody>\n",
       "</table>\n",
       "<p>103 rows × 3 columns</p>\n",
       "</div>"
      ],
      "text/plain": [
       "    PostalCode                Borough  \\\n",
       "0          M3A             North York   \n",
       "1          M4A             North York   \n",
       "2          M5A       Downtown Toronto   \n",
       "3          M6A             North York   \n",
       "4          M7A           Queen's Park   \n",
       "..         ...                    ...   \n",
       "98         M8X              Etobicoke   \n",
       "99         M4Y       Downtown Toronto   \n",
       "100        M7Y  East Toronto Business   \n",
       "101        M8Y              Etobicoke   \n",
       "102        M8Z              Etobicoke   \n",
       "\n",
       "                                          Neighborhood  \n",
       "0                                            Parkwoods  \n",
       "1                                     Victoria Village  \n",
       "2                            Regent Park, Harbourfront  \n",
       "3                     Lawrence Manor, Lawrence Heights  \n",
       "4                        Ontario Provincial Government  \n",
       "..                                                 ...  \n",
       "98       The Kingsway, Montgomery Road, Old Mill North  \n",
       "99                                Church and Wellesley  \n",
       "100                                     Enclave of M4L  \n",
       "101  Old Mill South, King's Mill Park, Sunnylea, Hu...  \n",
       "102  Mimico NW, The Queensway West, South of Bloor,...  \n",
       "\n",
       "[103 rows x 3 columns]"
      ]
     },
     "execution_count": 82,
     "metadata": {},
     "output_type": "execute_result"
    }
   ],
   "source": [
    "#verify that the table has the desired shape\n",
    "d"
   ]
  },
  {
   "cell_type": "code",
   "execution_count": 81,
   "metadata": {},
   "outputs": [
    {
     "data": {
      "text/plain": [
       "(103, 3)"
      ]
     },
     "execution_count": 81,
     "metadata": {},
     "output_type": "execute_result"
    }
   ],
   "source": [
    "d.shape"
   ]
  },
  {
   "cell_type": "code",
   "execution_count": 83,
   "metadata": {},
   "outputs": [],
   "source": []
  }
 ],
 "metadata": {
  "kernelspec": {
   "display_name": "Python 3",
   "language": "python",
   "name": "python3"
  },
  "language_info": {
   "codemirror_mode": {
    "name": "ipython",
    "version": 3
   },
   "file_extension": ".py",
   "mimetype": "text/x-python",
   "name": "python",
   "nbconvert_exporter": "python",
   "pygments_lexer": "ipython3",
   "version": "3.7.6"
  }
 },
 "nbformat": 4,
 "nbformat_minor": 4
}
